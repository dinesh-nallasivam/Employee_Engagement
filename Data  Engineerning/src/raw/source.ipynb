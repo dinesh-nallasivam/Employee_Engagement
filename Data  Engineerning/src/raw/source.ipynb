{
 "cells": [
  {
   "cell_type": "code",
   "execution_count": 1,
   "metadata": {},
   "outputs": [
    {
     "name": "stdout",
     "output_type": "stream",
     "text": [
      "Defaulting to user installation because normal site-packages is not writeable\n",
      "Requirement already satisfied: pandas in c:\\users\\dineshn\\appdata\\roaming\\python\\python311\\site-packages (2.2.2)\n",
      "Requirement already satisfied: numpy in c:\\users\\dineshn\\appdata\\roaming\\python\\python311\\site-packages (2.0.1)\n",
      "Requirement already satisfied: python-dateutil>=2.8.2 in c:\\users\\dineshn\\appdata\\roaming\\python\\python311\\site-packages (from pandas) (2.9.0.post0)\n",
      "Requirement already satisfied: pytz>=2020.1 in c:\\users\\dineshn\\appdata\\roaming\\python\\python311\\site-packages (from pandas) (2024.1)\n",
      "Requirement already satisfied: tzdata>=2022.7 in c:\\users\\dineshn\\appdata\\roaming\\python\\python311\\site-packages (from pandas) (2024.1)\n",
      "Requirement already satisfied: six>=1.5 in c:\\users\\dineshn\\appdata\\roaming\\python\\python311\\site-packages (from python-dateutil>=2.8.2->pandas) (1.16.0)\n",
      "Note: you may need to restart the kernel to use updated packages.\n"
     ]
    },
    {
     "name": "stderr",
     "output_type": "stream",
     "text": [
      "\n",
      "[notice] A new release of pip is available: 24.0 -> 24.2\n",
      "[notice] To update, run: python.exe -m pip install --upgrade pip\n"
     ]
    }
   ],
   "source": [
    "%pip install pandas numpy"
   ]
  },
  {
   "cell_type": "code",
   "execution_count": 2,
   "metadata": {},
   "outputs": [],
   "source": [
    "import pandas as pd\n",
    "import numpy as np"
   ]
  },
  {
   "cell_type": "code",
   "execution_count": 6,
   "metadata": {},
   "outputs": [
    {
     "name": "stdout",
     "output_type": "stream",
     "text": [
      "File copied from ../../dataset/employees.csv to ../../employeeEngagement/raw/employees.csv\n"
     ]
    }
   ],
   "source": [
    "source = \"../../dataset/employees.csv\"\n",
    "\n",
    "destination = \"../../employeeEngagement/raw/employees.csv\"\n",
    "\n",
    "df = pd.read_csv(source)\n",
    "\n",
    "df.to_csv(destination, index=False)\n",
    "\n",
    "print(f\"File copied from {source} to {destination}\")"
   ]
  },
  {
   "cell_type": "code",
   "execution_count": 7,
   "metadata": {},
   "outputs": [
    {
     "name": "stdout",
     "output_type": "stream",
     "text": [
      "File copied from ../../dataset/courses.csv to ../../employeeEngagement/raw/courses.csv\n"
     ]
    }
   ],
   "source": [
    "source = \"../../dataset/courses.csv\"\n",
    "\n",
    "destination = \"../../employeeEngagement/raw/courses.csv\"\n",
    "\n",
    "df = pd.read_csv(source)\n",
    "\n",
    "df.to_csv(destination, index=False)\n",
    "\n",
    "print(f\"File copied from {source} to {destination}\")"
   ]
  },
  {
   "cell_type": "code",
   "execution_count": 8,
   "metadata": {},
   "outputs": [
    {
     "name": "stdout",
     "output_type": "stream",
     "text": [
      "File copied from ../../dataset/chapters.csv to ../../employeeEngagement/raw/chapters.csv\n"
     ]
    }
   ],
   "source": [
    "source = \"../../dataset/chapters.csv\"\n",
    "\n",
    "destination = \"../../employeeEngagement/raw/chapters.csv\"\n",
    "\n",
    "df = pd.read_csv(source)\n",
    "\n",
    "df.to_csv(destination, index=False)\n",
    "\n",
    "print(f\"File copied from {source} to {destination}\")"
   ]
  },
  {
   "cell_type": "code",
   "execution_count": 9,
   "metadata": {},
   "outputs": [
    {
     "name": "stdout",
     "output_type": "stream",
     "text": [
      "File copied from ../../dataset/course_progresses.csv to ../../employeeEngagement/raw/courseProgress.csv\n"
     ]
    }
   ],
   "source": [
    "source = \"../../dataset/course_progresses.csv\"\n",
    "\n",
    "destination = \"../../employeeEngagement/raw/courseProgress.csv\"\n",
    "\n",
    "df = pd.read_csv(source)\n",
    "\n",
    "df.to_csv(destination, index=False)\n",
    "\n",
    "print(f\"File copied from {source} to {destination}\")"
   ]
  },
  {
   "cell_type": "code",
   "execution_count": 10,
   "metadata": {},
   "outputs": [
    {
     "name": "stdout",
     "output_type": "stream",
     "text": [
      "File copied from ../../dataset/quizzes.csv to ../../employeeEngagement/raw/quiz.csv\n"
     ]
    }
   ],
   "source": [
    "source = \"../../dataset/quizzes.csv\"\n",
    "\n",
    "destination = \"../../employeeEngagement/raw/quiz.csv\"\n",
    "\n",
    "df = pd.read_csv(source)\n",
    "\n",
    "df.to_csv(destination, index=False)\n",
    "\n",
    "print(f\"File copied from {source} to {destination}\")"
   ]
  },
  {
   "cell_type": "code",
   "execution_count": 11,
   "metadata": {},
   "outputs": [
    {
     "name": "stdout",
     "output_type": "stream",
     "text": [
      "File copied from ../../dataset/questions.csv to ../../employeeEngagement/raw/questions.csv\n"
     ]
    }
   ],
   "source": [
    "source = \"../../dataset/questions.csv\"\n",
    "\n",
    "destination = \"../../employeeEngagement/raw/questions.csv\"\n",
    "\n",
    "df = pd.read_csv(source)\n",
    "\n",
    "df.to_csv(destination, index=False)\n",
    "\n",
    "print(f\"File copied from {source} to {destination}\")"
   ]
  },
  {
   "cell_type": "code",
   "execution_count": 12,
   "metadata": {},
   "outputs": [
    {
     "name": "stdout",
     "output_type": "stream",
     "text": [
      "File copied from ../../dataset/quiz_results.csv to ../../employeeEngagement/raw/quizResults.csv\n"
     ]
    }
   ],
   "source": [
    "source = \"../../dataset/quiz_results.csv\"\n",
    "\n",
    "destination = \"../../employeeEngagement/raw/quizResults.csv\"\n",
    "\n",
    "df = pd.read_csv(source)\n",
    "\n",
    "df.to_csv(destination, index=False)\n",
    "\n",
    "print(f\"File copied from {source} to {destination}\")"
   ]
  },
  {
   "cell_type": "code",
   "execution_count": 13,
   "metadata": {},
   "outputs": [
    {
     "name": "stdout",
     "output_type": "stream",
     "text": [
      "File copied from ../../dataset/feedbacks.csv to ../../employeeEngagement/raw/feedbacks.csv\n"
     ]
    }
   ],
   "source": [
    "source = \"../../dataset/feedbacks.csv\"\n",
    "\n",
    "destination = \"../../employeeEngagement/raw/feedbacks.csv\"\n",
    "\n",
    "df = pd.read_csv(source)\n",
    "\n",
    "df.to_csv(destination, index=False)\n",
    "\n",
    "print(f\"File copied from {source} to {destination}\")"
   ]
  },
  {
   "cell_type": "code",
   "execution_count": 14,
   "metadata": {},
   "outputs": [
    {
     "name": "stdout",
     "output_type": "stream",
     "text": [
      "File copied from ../../dataset/feedback_responses.csv to ../../employeeEngagement/raw/feedbackResponses.csv\n"
     ]
    }
   ],
   "source": [
    "source = \"../../dataset/feedback_responses.csv\"\n",
    "\n",
    "destination = \"../../employeeEngagement/raw/feedbackResponses.csv\"\n",
    "\n",
    "df = pd.read_csv(source)\n",
    "\n",
    "df.to_csv(destination, index=False)\n",
    "\n",
    "print(f\"File copied from {source} to {destination}\")"
   ]
  }
 ],
 "metadata": {
  "kernelspec": {
   "display_name": "Python 3",
   "language": "python",
   "name": "python3"
  },
  "language_info": {
   "codemirror_mode": {
    "name": "ipython",
    "version": 3
   },
   "file_extension": ".py",
   "mimetype": "text/x-python",
   "name": "python",
   "nbconvert_exporter": "python",
   "pygments_lexer": "ipython3",
   "version": "3.11.9"
  }
 },
 "nbformat": 4,
 "nbformat_minor": 2
}
