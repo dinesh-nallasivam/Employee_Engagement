{
 "cells": [
  {
   "cell_type": "code",
   "execution_count": 7,
   "metadata": {},
   "outputs": [],
   "source": [
    "import pandas as pd"
   ]
  },
  {
   "cell_type": "code",
   "execution_count": 8,
   "metadata": {},
   "outputs": [],
   "source": [
    "df_employee = pd.read_csv('../../employeeEngagement/prep/employees.csv')\n",
    "\n",
    "df_courseProgres = pd.read_csv('../../employeeEngagement/prep/courseProgress.csv')\n"
   ]
  },
  {
   "cell_type": "code",
   "execution_count": 9,
   "metadata": {},
   "outputs": [],
   "source": [
    "df_courseProgres = df_courseProgres.loc[df_courseProgres['progress']==100]\n",
    "\n",
    "df_merge = pd.merge(\n",
    "    df_employee, df_courseProgres,\n",
    "    left_on=['id'],\n",
    "    right_on=['employeeId'],\n",
    "    how='inner'\n",
    ")"
   ]
  },
  {
   "cell_type": "code",
   "execution_count": 10,
   "metadata": {},
   "outputs": [],
   "source": [
    "df_merge = df_merge.groupby(['department'])['timeSpent'].agg(\n",
    "    max_time_in_hr = 'max',\n",
    "    min_time_in_hr = 'min'\n",
    ")"
   ]
  },
  {
   "cell_type": "code",
   "execution_count": 11,
   "metadata": {},
   "outputs": [
    {
     "data": {
      "text/html": [
       "<div>\n",
       "<style scoped>\n",
       "    .dataframe tbody tr th:only-of-type {\n",
       "        vertical-align: middle;\n",
       "    }\n",
       "\n",
       "    .dataframe tbody tr th {\n",
       "        vertical-align: top;\n",
       "    }\n",
       "\n",
       "    .dataframe thead th {\n",
       "        text-align: right;\n",
       "    }\n",
       "</style>\n",
       "<table border=\"1\" class=\"dataframe\">\n",
       "  <thead>\n",
       "    <tr style=\"text-align: right;\">\n",
       "      <th></th>\n",
       "      <th>max_time_in_hr</th>\n",
       "      <th>min_time_in_hr</th>\n",
       "    </tr>\n",
       "    <tr>\n",
       "      <th>department</th>\n",
       "      <th></th>\n",
       "      <th></th>\n",
       "    </tr>\n",
       "  </thead>\n",
       "  <tbody>\n",
       "    <tr>\n",
       "      <th>DevOps</th>\n",
       "      <td>1 hr 27 min</td>\n",
       "      <td>1 hr 27 min</td>\n",
       "    </tr>\n",
       "    <tr>\n",
       "      <th>Information Technology (IT) Support</th>\n",
       "      <td>1 hr 55 min</td>\n",
       "      <td>1 hr 55 min</td>\n",
       "    </tr>\n",
       "    <tr>\n",
       "      <th>Software Development</th>\n",
       "      <td>1 hr 27 min</td>\n",
       "      <td>1 hr 27 min</td>\n",
       "    </tr>\n",
       "    <tr>\n",
       "      <th>Systems USERistration</th>\n",
       "      <td>1 hr 34 min</td>\n",
       "      <td>1 hr 34 min</td>\n",
       "    </tr>\n",
       "    <tr>\n",
       "      <th>Technical Support</th>\n",
       "      <td>1 hr 3 min</td>\n",
       "      <td>0 hr 38 min</td>\n",
       "    </tr>\n",
       "    <tr>\n",
       "      <th>Training and Development</th>\n",
       "      <td>1 hr 30 min</td>\n",
       "      <td>0 hr 18 min</td>\n",
       "    </tr>\n",
       "    <tr>\n",
       "      <th>User Interface (UI) Design</th>\n",
       "      <td>2 hr 34 min</td>\n",
       "      <td>0 hr 39 min</td>\n",
       "    </tr>\n",
       "  </tbody>\n",
       "</table>\n",
       "</div>"
      ],
      "text/plain": [
       "                                    max_time_in_hr min_time_in_hr\n",
       "department                                                       \n",
       "DevOps                                 1 hr 27 min    1 hr 27 min\n",
       "Information Technology (IT) Support    1 hr 55 min    1 hr 55 min\n",
       "Software Development                   1 hr 27 min    1 hr 27 min\n",
       "Systems USERistration                  1 hr 34 min    1 hr 34 min\n",
       "Technical Support                       1 hr 3 min    0 hr 38 min\n",
       "Training and Development               1 hr 30 min    0 hr 18 min\n",
       "User Interface (UI) Design             2 hr 34 min    0 hr 39 min"
      ]
     },
     "metadata": {},
     "output_type": "display_data"
    }
   ],
   "source": [
    "def convert_seconds_to_hr_min(seconds):\n",
    "    hours = seconds // 3600\n",
    "    minutes = (seconds % 3600) // 60\n",
    "    return f\"{hours} hr {minutes} min\"\n",
    "\n",
    "df_merge['min_time_in_hr'] = df_merge['min_time_in_hr'].apply(convert_seconds_to_hr_min)\n",
    "\n",
    "df_merge['max_time_in_hr'] = df_merge['max_time_in_hr'].apply(convert_seconds_to_hr_min)\n",
    "\n",
    "display(df_merge)\n"
   ]
  }
 ],
 "metadata": {
  "kernelspec": {
   "display_name": "Python 3",
   "language": "python",
   "name": "python3"
  },
  "language_info": {
   "codemirror_mode": {
    "name": "ipython",
    "version": 3
   },
   "file_extension": ".py",
   "mimetype": "text/x-python",
   "name": "python",
   "nbconvert_exporter": "python",
   "pygments_lexer": "ipython3",
   "version": "3.11.9"
  }
 },
 "nbformat": 4,
 "nbformat_minor": 2
}
