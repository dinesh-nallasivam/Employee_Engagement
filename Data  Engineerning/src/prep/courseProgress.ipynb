{
 "cells": [
  {
   "cell_type": "code",
   "execution_count": 116,
   "metadata": {},
   "outputs": [],
   "source": [
    "import pandas as pd"
   ]
  },
  {
   "cell_type": "code",
   "execution_count": 117,
   "metadata": {},
   "outputs": [],
   "source": [
    "df = pd.read_csv('../../employeeEngagement/raw/courseProgress.csv')\n"
   ]
  },
  {
   "cell_type": "code",
   "execution_count": 118,
   "metadata": {},
   "outputs": [],
   "source": [
    "df['startedAt'] = pd.to_datetime(df['startedAt'])\n",
    "\n",
    "df['startedAt'] = df['startedAt'].dt.date.astype(str)\n",
    "\n",
    "df['startedAt'] = pd.to_datetime(df['startedAt'])\n",
    "\n",
    "df['updatedAt'] = pd.to_datetime(df['updatedAt'])\n",
    "\n",
    "df['updatedAt'] = df['updatedAt'].dt.date.astype(str)\n",
    "\n",
    "df['updatedAt'] = pd.to_datetime(df['updatedAt'])\n"
   ]
  },
  {
   "cell_type": "code",
   "execution_count": 119,
   "metadata": {},
   "outputs": [],
   "source": [
    "df['progress'] = df['progress'].apply(lambda x: f\"{x:.2f}\")\n",
    "\n",
    "df['progress'] = df['progress'].astype('float64')"
   ]
  },
  {
   "cell_type": "code",
   "execution_count": 120,
   "metadata": {},
   "outputs": [],
   "source": [
    "def generate_name(row):\n",
    "    if pd.isna(row['status']):\n",
    "        if(row['progress'] == 0):\n",
    "            return \"enrolled\"\n",
    "        elif(row['progress']>0 and row['progress']<100):\n",
    "            return \"inprogress\"\n",
    "        else:\n",
    "            return \"completed\"\n",
    "    return row['status']\n",
    "\n",
    "df['status'] = df.apply(generate_name,axis=1)"
   ]
  },
  {
   "cell_type": "code",
   "execution_count": 121,
   "metadata": {},
   "outputs": [],
   "source": [
    "df.to_csv(\"../../employeeEngagement/prep/courseProgress.csv\")"
   ]
  }
 ],
 "metadata": {
  "kernelspec": {
   "display_name": "Python 3",
   "language": "python",
   "name": "python3"
  },
  "language_info": {
   "codemirror_mode": {
    "name": "ipython",
    "version": 3
   },
   "file_extension": ".py",
   "mimetype": "text/x-python",
   "name": "python",
   "nbconvert_exporter": "python",
   "pygments_lexer": "ipython3",
   "version": "3.11.9"
  }
 },
 "nbformat": 4,
 "nbformat_minor": 2
}
