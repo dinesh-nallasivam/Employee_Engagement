{
 "cells": [
  {
   "cell_type": "code",
   "execution_count": 143,
   "metadata": {},
   "outputs": [],
   "source": [
    "import pandas as pd"
   ]
  },
  {
   "cell_type": "code",
   "execution_count": 144,
   "metadata": {},
   "outputs": [],
   "source": [
    "df_quiz = pd.read_csv('../../employeeEngagement/raw/quiz.csv')\n",
    "\n",
    "df_quiz_result = pd.read_csv('../../employeeEngagement/raw/quizResults.csv')\n"
   ]
  },
  {
   "cell_type": "code",
   "execution_count": 145,
   "metadata": {},
   "outputs": [],
   "source": [
    "df_quiz = df_quiz.drop(columns=['totalTimeComplete', 'questions' ])"
   ]
  },
  {
   "cell_type": "code",
   "execution_count": 152,
   "metadata": {},
   "outputs": [
    {
     "data": {
      "text/html": [
       "<div>\n",
       "<style scoped>\n",
       "    .dataframe tbody tr th:only-of-type {\n",
       "        vertical-align: middle;\n",
       "    }\n",
       "\n",
       "    .dataframe tbody tr th {\n",
       "        vertical-align: top;\n",
       "    }\n",
       "\n",
       "    .dataframe thead th {\n",
       "        text-align: right;\n",
       "    }\n",
       "</style>\n",
       "<table border=\"1\" class=\"dataframe\">\n",
       "  <thead>\n",
       "    <tr style=\"text-align: right;\">\n",
       "      <th></th>\n",
       "      <th>id_x</th>\n",
       "      <th>title</th>\n",
       "      <th>chapterId</th>\n",
       "      <th>totalMarks</th>\n",
       "      <th>totalQuestion</th>\n",
       "      <th>id_y</th>\n",
       "      <th>employeeId</th>\n",
       "      <th>quizId</th>\n",
       "      <th>score</th>\n",
       "      <th>completedAt</th>\n",
       "    </tr>\n",
       "  </thead>\n",
       "  <tbody>\n",
       "    <tr>\n",
       "      <th>0</th>\n",
       "      <td>1</td>\n",
       "      <td>Operation see determine remain near.</td>\n",
       "      <td>1</td>\n",
       "      <td>17</td>\n",
       "      <td>6</td>\n",
       "      <td>227</td>\n",
       "      <td>20</td>\n",
       "      <td>1</td>\n",
       "      <td>54</td>\n",
       "      <td>2024-10-07 11:06:43.344906</td>\n",
       "    </tr>\n",
       "    <tr>\n",
       "      <th>1</th>\n",
       "      <td>1</td>\n",
       "      <td>Operation see determine remain near.</td>\n",
       "      <td>1</td>\n",
       "      <td>17</td>\n",
       "      <td>6</td>\n",
       "      <td>666</td>\n",
       "      <td>54</td>\n",
       "      <td>1</td>\n",
       "      <td>51</td>\n",
       "      <td>2024-10-07 11:06:43.351014</td>\n",
       "    </tr>\n",
       "    <tr>\n",
       "      <th>2</th>\n",
       "      <td>1</td>\n",
       "      <td>Operation see determine remain near.</td>\n",
       "      <td>1</td>\n",
       "      <td>17</td>\n",
       "      <td>6</td>\n",
       "      <td>1199</td>\n",
       "      <td>98</td>\n",
       "      <td>1</td>\n",
       "      <td>4</td>\n",
       "      <td>2024-10-07 11:06:43.359542</td>\n",
       "    </tr>\n",
       "    <tr>\n",
       "      <th>3</th>\n",
       "      <td>2</td>\n",
       "      <td>Live wide no anything their truth end.</td>\n",
       "      <td>1</td>\n",
       "      <td>11</td>\n",
       "      <td>5</td>\n",
       "      <td>228</td>\n",
       "      <td>20</td>\n",
       "      <td>2</td>\n",
       "      <td>35</td>\n",
       "      <td>2024-10-07 11:06:43.344908</td>\n",
       "    </tr>\n",
       "    <tr>\n",
       "      <th>4</th>\n",
       "      <td>2</td>\n",
       "      <td>Live wide no anything their truth end.</td>\n",
       "      <td>1</td>\n",
       "      <td>11</td>\n",
       "      <td>5</td>\n",
       "      <td>667</td>\n",
       "      <td>54</td>\n",
       "      <td>2</td>\n",
       "      <td>14</td>\n",
       "      <td>2024-10-07 11:06:43.351016</td>\n",
       "    </tr>\n",
       "    <tr>\n",
       "      <th>5</th>\n",
       "      <td>2</td>\n",
       "      <td>Live wide no anything their truth end.</td>\n",
       "      <td>1</td>\n",
       "      <td>11</td>\n",
       "      <td>5</td>\n",
       "      <td>1200</td>\n",
       "      <td>98</td>\n",
       "      <td>2</td>\n",
       "      <td>1</td>\n",
       "      <td>2024-10-07 11:06:43.359543</td>\n",
       "    </tr>\n",
       "  </tbody>\n",
       "</table>\n",
       "</div>"
      ],
      "text/plain": [
       "   id_x                                   title  chapterId  totalMarks  \\\n",
       "0     1    Operation see determine remain near.          1          17   \n",
       "1     1    Operation see determine remain near.          1          17   \n",
       "2     1    Operation see determine remain near.          1          17   \n",
       "3     2  Live wide no anything their truth end.          1          11   \n",
       "4     2  Live wide no anything their truth end.          1          11   \n",
       "5     2  Live wide no anything their truth end.          1          11   \n",
       "\n",
       "   totalQuestion  id_y  employeeId  quizId  score                 completedAt  \n",
       "0              6   227          20       1     54  2024-10-07 11:06:43.344906  \n",
       "1              6   666          54       1     51  2024-10-07 11:06:43.351014  \n",
       "2              6  1199          98       1      4  2024-10-07 11:06:43.359542  \n",
       "3              5   228          20       2     35  2024-10-07 11:06:43.344908  \n",
       "4              5   667          54       2     14  2024-10-07 11:06:43.351016  \n",
       "5              5  1200          98       2      1  2024-10-07 11:06:43.359543  "
      ]
     },
     "metadata": {},
     "output_type": "display_data"
    }
   ],
   "source": [
    "merged_df = pd.merge(\n",
    "    df_quiz, df_quiz_result,\n",
    "    left_on=['id'],\n",
    "    right_on=['quizId'],\n",
    "    how='inner'\n",
    ")\n",
    "display(merged_df.loc[merged_df['chapterId']==1])"
   ]
  },
  {
   "cell_type": "code",
   "execution_count": 147,
   "metadata": {},
   "outputs": [],
   "source": [
    "merged_df = merged_df.loc[merged_df.groupby(['employeeId', 'quizId','chapterId'])['completedAt'].idxmax()]\n",
    "\n",
    "merged_df.reset_index(drop=True, inplace=True)"
   ]
  },
  {
   "cell_type": "code",
   "execution_count": 148,
   "metadata": {},
   "outputs": [],
   "source": [
    "merged_df['completedAt'] = pd.to_datetime(merged_df['completedAt'])\n",
    "\n",
    "merged_df['completedAt'] = merged_df['completedAt'].dt.date.astype(str)\n",
    "\n",
    "merged_df['completedAt'] = pd.to_datetime(merged_df['completedAt'])"
   ]
  },
  {
   "cell_type": "code",
   "execution_count": 149,
   "metadata": {},
   "outputs": [],
   "source": [
    "merged_df['score'] = merged_df['score'].fillna(0)"
   ]
  },
  {
   "cell_type": "code",
   "execution_count": 150,
   "metadata": {},
   "outputs": [],
   "source": [
    "merged_df = merged_df.drop(columns=['id_x' ])\n"
   ]
  },
  {
   "cell_type": "code",
   "execution_count": 151,
   "metadata": {},
   "outputs": [],
   "source": [
    "merged_df.to_csv(\"../../employeeEngagement/prep/quiz.csv\")"
   ]
  }
 ],
 "metadata": {
  "kernelspec": {
   "display_name": "Python 3",
   "language": "python",
   "name": "python3"
  },
  "language_info": {
   "codemirror_mode": {
    "name": "ipython",
    "version": 3
   },
   "file_extension": ".py",
   "mimetype": "text/x-python",
   "name": "python",
   "nbconvert_exporter": "python",
   "pygments_lexer": "ipython3",
   "version": "3.11.9"
  }
 },
 "nbformat": 4,
 "nbformat_minor": 2
}
