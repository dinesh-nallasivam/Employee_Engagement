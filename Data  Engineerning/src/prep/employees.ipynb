{
 "cells": [
  {
   "cell_type": "code",
   "execution_count": 1,
   "metadata": {},
   "outputs": [],
   "source": [
    "import pandas as pd\n",
    "import numpy as np"
   ]
  },
  {
   "cell_type": "code",
   "execution_count": 11,
   "metadata": {},
   "outputs": [],
   "source": [
    "df = pd.read_csv('../../employeeEngagement/raw/employees.csv')\n",
    "\n",
    "df = df.drop(columns=['password', 'role','progress', 'feedbacks', 'quizResults' ])\n",
    "\n",
    "def generate_email(row):\n",
    "    if pd.isna(row['email']):\n",
    "        return f\"id_{row['id']}@gmail.com\"\n",
    "    return row['email']\n",
    "\n",
    "df['email'] = df.apply(generate_email, axis=1)\n"
   ]
  },
  {
   "cell_type": "code",
   "execution_count": 12,
   "metadata": {},
   "outputs": [
    {
     "name": "stdout",
     "output_type": "stream",
     "text": [
      "Data cleaned and duplicates removed!\n"
     ]
    }
   ],
   "source": [
    "\n",
    "df = df.drop_duplicates(subset='email', keep='first')\n",
    "\n",
    "print(\"Data cleaned and duplicates removed!\")\n"
   ]
  },
  {
   "cell_type": "code",
   "execution_count": 21,
   "metadata": {},
   "outputs": [],
   "source": [
    "def generate_name(row):\n",
    "    if pd.isna(row['name']):\n",
    "        return (row['email']).split(\"@\")[0]\n",
    "    return row['name']\n",
    "\n",
    "df['name'] = df.apply(generate_name,axis=1)"
   ]
  },
  {
   "cell_type": "code",
   "execution_count": 22,
   "metadata": {},
   "outputs": [],
   "source": [
    "most_common_department = df['department'].mode()[0]\n",
    "\n",
    "df['department'] = df['department'].fillna(most_common_department)"
   ]
  },
  {
   "cell_type": "code",
   "execution_count": 32,
   "metadata": {},
   "outputs": [],
   "source": [
    "df.to_csv(\"../../employeeEngagement/prep/employees.csv\")"
   ]
  }
 ],
 "metadata": {
  "kernelspec": {
   "display_name": "Python 3",
   "language": "python",
   "name": "python3"
  },
  "language_info": {
   "codemirror_mode": {
    "name": "ipython",
    "version": 3
   },
   "file_extension": ".py",
   "mimetype": "text/x-python",
   "name": "python",
   "nbconvert_exporter": "python",
   "pygments_lexer": "ipython3",
   "version": "3.11.9"
  }
 },
 "nbformat": 4,
 "nbformat_minor": 2
}
