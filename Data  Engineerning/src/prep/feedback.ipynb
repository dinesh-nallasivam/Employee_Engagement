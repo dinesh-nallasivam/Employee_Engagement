{
 "cells": [
  {
   "cell_type": "code",
   "execution_count": 29,
   "metadata": {},
   "outputs": [],
   "source": [
    "import pandas as pd"
   ]
  },
  {
   "cell_type": "code",
   "execution_count": 30,
   "metadata": {},
   "outputs": [],
   "source": [
    "df_feedback = pd.read_csv('../../employeeEngagement/raw/feedbacks.csv')\n",
    "\n",
    "df_feedback_responses = pd.read_csv('../../employeeEngagement/raw/feedbackResponses.csv')"
   ]
  },
  {
   "cell_type": "code",
   "execution_count": 31,
   "metadata": {},
   "outputs": [],
   "source": [
    "df_feedback = df_feedback.drop(columns=['responses' ])\n",
    "\n",
    "df_feedback_responses = df_feedback_responses.drop(columns=['feedbackQuestionId' ])"
   ]
  },
  {
   "cell_type": "code",
   "execution_count": 32,
   "metadata": {},
   "outputs": [],
   "source": [
    "df_feedback['submittedAt'] = pd.to_datetime(df_feedback['submittedAt'])\n",
    "\n",
    "df_feedback['submittedAt'] = df_feedback['submittedAt'].dt.date.astype(str)\n",
    "\n",
    "df_feedback['submittedAt'] = pd.to_datetime(df_feedback['submittedAt'])"
   ]
  },
  {
   "cell_type": "code",
   "execution_count": 33,
   "metadata": {},
   "outputs": [],
   "source": [
    "df_feedback_responses['response'] = df_feedback_responses['response'].fillna(0)"
   ]
  },
  {
   "cell_type": "code",
   "execution_count": 34,
   "metadata": {},
   "outputs": [],
   "source": [
    "merged_df = pd.merge(\n",
    "    df_feedback, df_feedback_responses,\n",
    "    left_on=['id'],\n",
    "    right_on=['feedbackId'],\n",
    "    how='inner'\n",
    ")\n",
    "\n",
    "merged_df = merged_df.drop(columns=['id_x','id_y' ])"
   ]
  },
  {
   "cell_type": "code",
   "execution_count": 35,
   "metadata": {},
   "outputs": [],
   "source": [
    "merged_df.to_csv(\"../../employeeEngagement/prep/feedbacks.csv\")\n"
   ]
  }
 ],
 "metadata": {
  "kernelspec": {
   "display_name": "Python 3",
   "language": "python",
   "name": "python3"
  },
  "language_info": {
   "codemirror_mode": {
    "name": "ipython",
    "version": 3
   },
   "file_extension": ".py",
   "mimetype": "text/x-python",
   "name": "python",
   "nbconvert_exporter": "python",
   "pygments_lexer": "ipython3",
   "version": "3.11.9"
  }
 },
 "nbformat": 4,
 "nbformat_minor": 2
}
