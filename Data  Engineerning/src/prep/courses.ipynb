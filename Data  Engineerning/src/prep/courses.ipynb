{
 "cells": [
  {
   "cell_type": "code",
   "execution_count": 132,
   "metadata": {},
   "outputs": [],
   "source": [
    "import pandas as pd"
   ]
  },
  {
   "cell_type": "code",
   "execution_count": 133,
   "metadata": {},
   "outputs": [],
   "source": [
    "df = pd.read_csv('../../employeeEngagement/raw/courses.csv')\n",
    "\n",
    "df = df.drop(columns=['progress', 'feedback', 'feedbackQuestion', 'totalTimeComplete', 'chapters' ])\n"
   ]
  },
  {
   "cell_type": "code",
   "execution_count": 134,
   "metadata": {},
   "outputs": [],
   "source": [
    "df['title'] = df['title'].str.strip().str.capitalize()\n",
    "\n",
    "df['description'] = df['description'].str.strip()\n",
    "    "
   ]
  },
  {
   "cell_type": "code",
   "execution_count": 135,
   "metadata": {},
   "outputs": [],
   "source": [
    "df['startedAt'] = pd.to_datetime(df['startedAt'], format='%d/%m/%Y %H:%M', errors='coerce')\n",
    "\n",
    "df['startedAt'] = df['startedAt'].dt.date.astype(str)\n",
    "\n",
    "df['startedAt'] = pd.to_datetime(df['startedAt'])\n"
   ]
  },
  {
   "cell_type": "code",
   "execution_count": 136,
   "metadata": {},
   "outputs": [],
   "source": [
    "df['totalChapter'] = df['totalChapter'].astype(int)\n",
    "\n",
    "df['totalQuiz'] = df['totalQuiz'].astype(int)"
   ]
  },
  {
   "cell_type": "code",
   "execution_count": 137,
   "metadata": {},
   "outputs": [],
   "source": [
    "df.to_csv(\"../../employeeEngagement/prep/courses.csv\")"
   ]
  }
 ],
 "metadata": {
  "kernelspec": {
   "display_name": "Python 3",
   "language": "python",
   "name": "python3"
  },
  "language_info": {
   "codemirror_mode": {
    "name": "ipython",
    "version": 3
   },
   "file_extension": ".py",
   "mimetype": "text/x-python",
   "name": "python",
   "nbconvert_exporter": "python",
   "pygments_lexer": "ipython3",
   "version": "3.11.9"
  }
 },
 "nbformat": 4,
 "nbformat_minor": 2
}
